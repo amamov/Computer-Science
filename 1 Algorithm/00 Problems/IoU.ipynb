{
  "nbformat": 4,
  "nbformat_minor": 0,
  "metadata": {
    "colab": {
      "name": "과제1.ipynb",
      "provenance": [],
      "collapsed_sections": []
    },
    "kernelspec": {
      "name": "python3",
      "display_name": "Python 3"
    },
    "language_info": {
      "name": "python"
    }
  },
  "cells": [
    {
      "cell_type": "markdown",
      "metadata": {
        "id": "kfLxcdm0Wzk0"
      },
      "source": [
        "# 과제 1\n",
        "\n",
        "## 12181878 윤상석\n",
        "\n",
        "\n"
      ]
    },
    {
      "cell_type": "markdown",
      "metadata": {
        "id": "m7BQj19qbOil"
      },
      "source": [
        "\n",
        "좌표공간 `[0, 100] × [0, 100]` 위에서 모든 꼭지점의 좌표가 정수인 직사각형들을 ”좋은 직사각형”이라고 하자. \n",
        "\n",
        "좋은 직사각형의 넓이(area)는 그 직사각형의 가로 길이와 세로길이의 곱으로 정의되며, 좋은 직사각형 A와 B 사이의 IoU(Intersection of Union) 값은, 다음과 같이 정의 된다.\n",
        "\n",
        "```\n",
        "IoU(A, B) = area(A ∩ B) / area(A ∪ B)\n",
        "```\n",
        "\n",
        "\n",
        "이제 여러 직사각형들의 좌표가 주어졌을 때, 이들 중 IoU값이 가장 높은 직사각형의 쌍을 골라, 그 들의 IoU값을 출력하는 프로그램을 만드려고 한다. \n",
        "\n",
        "\n",
        "직사각형들의 좌표는 `[a, b, c, d]` 라는 list 형태로 주어지며, 각 변수의 뜻은 순서대로 다음과 같다.\n",
        "\n",
        "\n",
        "- a, b: 각각 직사각형의 왼쪽 아래 (left-bottom) 꼭지점의 x좌표, y좌표 \n",
        "- c, d: 각각 직사각형의 가로 길이, 세로 길이"
      ]
    },
    {
      "cell_type": "markdown",
      "metadata": {
        "id": "vXF5zii0yHFW"
      },
      "source": [
        "## (a) 위 네 가지 인자를 생성 변수로 갖는 좋은 직사각형들의 Class를 정의하여라."
      ]
    },
    {
      "cell_type": "code",
      "metadata": {
        "id": "Urb8RtiJXdqA"
      },
      "source": [
        "class SexyRectangle(object):\n",
        "\n",
        "    ''' 좋은 직사각형 '''\n",
        "    \n",
        "    def __init__(self, x, y, x_len, y_len):\n",
        "        SexyRectangle.type_check(x, y, x_len, y_len)\n",
        "        SexyRectangle.range_check(x, y, x_len, y_len)\n",
        "\n",
        "        self.x = x\n",
        "        self.y = y\n",
        "        self.x_len = x_len\n",
        "        self.y_len = y_len\n",
        "\n",
        "\n",
        "    @classmethod\n",
        "    def type_check(cls, *args):\n",
        "        for number in args:\n",
        "            if not (isinstance(number, int) and number >= 0 and number <= 100):\n",
        "                raise TypeError('This is not sexy rectangle. please check type or range.')\n",
        "\n",
        "\n",
        "    @classmethod\n",
        "    def range_check(cls, x, y, x_len, y_len):\n",
        "        if not (x + x_len <= 100 and y + y_len <=100):\n",
        "            raise TypeError('This is not sexy rectangle. please check range.')\n",
        "\n",
        "\n",
        "    def area(self) -> int:\n",
        "        return self.x_len * self.y_len\n",
        "\n",
        "    \n",
        "    def __repr__(self):\n",
        "        return (f\"<SexyRectangle 'initial point : ({self.x}, {self.y})\"\n",
        "                f\", generate_length : ({self.x_len}, {self.y_len})'\")\n"
      ],
      "execution_count": 55,
      "outputs": []
    },
    {
      "cell_type": "code",
      "metadata": {
        "colab": {
          "base_uri": "https://localhost:8080/"
        },
        "id": "fWFNTz_vXeLN",
        "outputId": "d49a1edc-9f38-4a63-df87-4a199a773972"
      },
      "source": [
        "rec1 = SexyRectangle(1, 2, 99, 98)\n",
        "rec2 = SexyRectangle(3, 7, 50, 45)\n",
        "\n",
        "print(rec1.area())\n",
        "\n",
        "print(rec2)"
      ],
      "execution_count": 63,
      "outputs": [
        {
          "output_type": "stream",
          "text": [
            "9702\n",
            "<SexyRectangle 'initial point : (3, 7), generate_length : (50, 45)'\n"
          ],
          "name": "stdout"
        }
      ]
    },
    {
      "cell_type": "markdown",
      "metadata": {
        "id": "uPt-jcTPyqvT"
      },
      "source": [
        "## (b) (a)에 정의된 좋은 직사각형 class 2개를 인자로 받아 IoU값을 return하는 함수를 정의 하여라. (함수명은 원하는대로 하여도 된다.)\n"
      ]
    },
    {
      "cell_type": "code",
      "metadata": {
        "id": "a4mHd3bWyjAt"
      },
      "source": [
        "class IoU(object):\n",
        "\n",
        "    ''' \n",
        "    IoU(A, B) = area(A intersection B) / area(A union B) \n",
        "    IoU(A, B) = area(A intersection B) / (area(A) + area(B) - area(A intersection B))\n",
        "    '''\n",
        "    \n",
        "    def __init__(self, rec1, rec2):\n",
        "        IoU.type_check(rec1, rec2)\n",
        "\n",
        "        self.rec1 = rec1\n",
        "        self.rec2 = rec2\n",
        "        self.rec_x_min = lambda: self.rec1 if self.rec1.x <= self.rec2.x else self.rec2\n",
        "        self.rec_x_max = lambda: self.rec2 if self.rec1.x <= self.rec2.x else self.rec1\n",
        "        self.rec_y_min = lambda: self.rec1 if self.rec1.y <= self.rec2.y else self.rec2\n",
        "        self.rec_y_max = lambda: self.rec2 if self.rec1.y <= self.rec2.y else self.rec1\n",
        "\n",
        "\n",
        "    @classmethod\n",
        "    def type_check(cls, *args):\n",
        "        for rec in args:\n",
        "            if not (isinstance(rec, SexyRectangle)):\n",
        "                raise TypeError('This is not sexy rectangle. please check type.')\n",
        "\n",
        "\n",
        "    def intersection_area(self):\n",
        "        if (self.rec_x_min().x + self.rec_x_min().x_len <= self.rec_x_max().x) or \\\n",
        "        (self.rec_y_min().y + self.rec_y_min().y_len <= self.rec_y_max().x):\n",
        "            # 아예 떨어져 있는 경우\n",
        "            return 0 \n",
        "        elif self.rec1.x == self.rec2.x and self.rec1.x_len == self.rec2.x_len and \\\n",
        "        self.rec1.y == self.rec2.y and self.rec1.y_len == self.rec2.y_len:\n",
        "            # 아예 같을 경우\n",
        "            return self.rec1.area()\n",
        "        else:\n",
        "            return (min(self.rec_x_min().x + self.rec_x_min().x_len, \\\n",
        "                        self.rec_x_max().x_len + self.rec_x_max().x) - self.rec_x_max().x) * \\\n",
        "                        (min(self.rec_y_min().y + self.rec_y_min().y_len, \\\n",
        "                             self.rec_y_max().y_len + self.rec_y_max().y) - self.rec_y_max().y)\n",
        "\n",
        "\n",
        "    def __call__(self):\n",
        "        return self.intersection_area() / \\\n",
        "        (self.rec1.area() + self.rec2.area() - self.intersection_area())\n",
        "        \n",
        "\n",
        "    def __repr__(self):\n",
        "        return \"<class IoU>\""
      ],
      "execution_count": 96,
      "outputs": []
    },
    {
      "cell_type": "code",
      "metadata": {
        "colab": {
          "base_uri": "https://localhost:8080/"
        },
        "id": "gpX0eNO1yjTT",
        "outputId": "d572e2da-cb7d-4ace-f536-890e681d2023"
      },
      "source": [
        "# solution\n",
        "print(IoU(SexyRectangle(0, 0, 2, 2), SexyRectangle(0, 0, 2, 2))())\n",
        "print(IoU(SexyRectangle(0, 0, 2, 2), SexyRectangle(0, 1, 2, 2))())\n",
        "\n",
        "## 문제에서 요구하는 대로 함수 형태로 만들면 아래와 같이 만들 수 있다.\n",
        "def cal_iou(rec1, rec2):\n",
        "    result = IoU(rec1, rec2)\n",
        "    return result()\n",
        "\n",
        "cal_iou(SexyRectangle(0, 0, 2, 2), SexyRectangle(0, 0, 2, 3))"
      ],
      "execution_count": 113,
      "outputs": [
        {
          "output_type": "stream",
          "text": [
            "1.0\n",
            "0.3333333333333333\n"
          ],
          "name": "stdout"
        },
        {
          "output_type": "execute_result",
          "data": {
            "text/plain": [
              "0.6666666666666666"
            ]
          },
          "metadata": {
            "tags": []
          },
          "execution_count": 113
        }
      ]
    },
    {
      "cell_type": "markdown",
      "metadata": {
        "id": "oe8CcWNoU7lg"
      },
      "source": [
        "## (c) 직사각형 좌표를 원소로 하는 list (즉, 4개의 integer 를 원소로 하는 list 하나하나를 원 소로 갖는 리스트)인 my-list 가 주어지면, (a), (b) 를 활용하여 이들 중 가장 큰 IoU 값을 가지는 직사각형의 쌍에 대해, 그 IoU 값을 출력하는 코드를 작성하여라.\n"
      ]
    },
    {
      "cell_type": "code",
      "metadata": {
        "id": "XQ9bQ7Yxyjf0"
      },
      "source": [
        "# solution\n",
        "def solution(data_list: list) -> int:\n",
        "    result = []\n",
        "    data_length = len(data_list)\n",
        "    for i in range(data_length):\n",
        "        for j in range(i+1, data_length):\n",
        "            data1, data2 = data_list[i], data_list[j]\n",
        "            iou = IoU(SexyRectangle(*data1), SexyRectangle(*data2))\n",
        "            result.append(iou())\n",
        "    return max(result)"
      ],
      "execution_count": 103,
      "outputs": []
    },
    {
      "cell_type": "code",
      "metadata": {
        "id": "Fa49jdT7VaAY"
      },
      "source": [
        "assert solution([[0, 0, 2, 2], [1, 1, 3, 2], [0, 1, 2, 3]]) == 0.25"
      ],
      "execution_count": 102,
      "outputs": []
    }
  ]
}