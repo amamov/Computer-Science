{
 "cells": [
  {
   "cell_type": "markdown",
   "metadata": {
    "tags": []
   },
   "source": [
    "# 스택(Stack)\n",
    "\n",
    "- 스택은 배열의 끝에서만 데이터를 접근할 수 있는 선형구조이다.\n",
    "- 스택은 배열의 인덱스 접근이 제한되며, **LIFO(Last In, First Out)** 구조이다.\n",
    "- 시간복잡도는 모두 `O(1)`이다.\n",
    "- 스택의 동작\n",
    "  - `push` : 스택 맨 끝(맨 위)에 항목을 삽입한다.\n",
    "  - `pop` : 스택 맨 끝 항목을 반환하는 동시에 제거한다.\n",
    "  - `top/peek` : 스택 맨 끝 항목을 조회한다.\n",
    "  - `empty` : 스택이 비어 있는지 확인한다.\n",
    "  - `size` : 스택 크기를 확인한다.\n",
    "\n",
    "<br>\n",
    "\n",
    "> 스택 자료구조는 단순해서 구현이 쉽고 데이터 저장/읽기 속도가 빠르다. 하지만 스택은 일반적로 데이터 최대 개수를 미리 정해야하고 저장 공간의 낭비가 발생할 수 있는 단점이 있다."
   ]
  },
  {
   "cell_type": "code",
   "execution_count": 3,
   "metadata": {},
   "outputs": [
    {
     "output_type": "execute_result",
     "data": {
      "image/png": "[encoded data removed]",
      "text/plain": "<IPython.core.display.Image object>"
     },
     "metadata": {},
     "execution_count": 3
    }
   ],
   "source": [
    "from IPython.display import Image \n",
    "\n",
    "Image(\"../../images/1/stack.png\")"
   ]
  },
  {
   "cell_type": "markdown",
   "metadata": {},
   "source": [
    "## 파이썬 리스트 기능에서 제공하는 메서드로 스택 사용하기\n",
    "\n",
    "> append, pop 메서드 사용"
   ]
  },
  {
   "cell_type": "code",
   "execution_count": 5,
   "metadata": {},
   "outputs": [],
   "source": [
    "data_stack = list()\n",
    "data_stack.append(1)\n",
    "data_stack.append(2)"
   ]
  },
  {
   "cell_type": "code",
   "execution_count": 6,
   "metadata": {},
   "outputs": [
    {
     "output_type": "execute_result",
     "data": {
      "text/plain": "[1, 2]"
     },
     "metadata": {},
     "execution_count": 6
    }
   ],
   "source": [
    "data_stack"
   ]
  },
  {
   "cell_type": "code",
   "execution_count": 7,
   "metadata": {},
   "outputs": [
    {
     "output_type": "execute_result",
     "data": {
      "text/plain": "2"
     },
     "metadata": {},
     "execution_count": 7
    }
   ],
   "source": [
    "data_stack.pop()"
   ]
  },
  {
   "cell_type": "code",
   "execution_count": 8,
   "metadata": {},
   "outputs": [
    {
     "output_type": "execute_result",
     "data": {
      "text/plain": "[1]"
     },
     "metadata": {},
     "execution_count": 8
    }
   ],
   "source": [
    "data_stack"
   ]
  },
  {
   "cell_type": "code",
   "execution_count": null,
   "metadata": {},
   "outputs": [],
   "source": []
  }
 ],
 "metadata": {
  "kernelspec": {
   "display_name": "[py39]",
   "language": "python",
   "name": "py39"
  },
  "language_info": {
   "codemirror_mode": {
    "name": "ipython",
    "version": 3
   },
   "file_extension": ".py",
   "mimetype": "text/x-python",
   "name": "python",
   "nbconvert_exporter": "python",
   "pygments_lexer": "ipython3",
   "version": "3.9.1"
  }
 },
 "nbformat": 4,
 "nbformat_minor": 2
}