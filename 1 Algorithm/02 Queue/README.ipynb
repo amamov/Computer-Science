{
 "cells": [
  {
   "cell_type": "markdown",
   "metadata": {},
   "source": [
    "# 큐(queue)\n",
    "\n",
    "- 큐는 스택과 다르게 데이터가 들어온 순서대로 접근이 가능하다.\n",
    "- 먼저 들어온 데이터가 먼저 나가는 **FIFO(First In, First Out)** 구조이다.\n",
    "- 배열의 인덱스 접근이 제한된다.\n",
    "- 시간복잡도는 모두 O(1)이다.\n",
    "- 스택의 동작\n",
    "  - `enqueue` : 큐 뒤쪽에 데이터를 삽입한다.\n",
    "  - `dequeue` : 큐 앞쪽의 데이터을 반환하고, 제거한다.\n",
    "  - `peek/front` : 큐 앞쪽의 데이터를 조회한다.\n",
    "  - `empty` : 스택이 비어 있는지 확인한다.\n",
    "  - `size` : 스택 크기를 확인한다.\n",
    "\n",
    "<br>\n",
    "\n",
    "<img src=\"../../images/1/queue.png\"  alt=\"queue\" width=\"50%\" />\n",
    "\n",
    "<br>\n",
    "<br>\n",
    "\n",
    "> 큐 자료구조는 멀티 태스킹을 위한 프로세스 스케쥴링 방식을 구현하기 위해 많이 사용된다."
   ]
  },
  {
   "cell_type": "markdown",
   "metadata": {},
   "source": [
    "## 파이썬 queue 라이브러리를 활용해서 큐 자료구조 사용하기\n",
    "\n",
    "- `Queue` : 가장 일반적인 자료구조\n",
    "- `LifoQueue` : 나중에 입력된 데이터가 먼저 출력되는 구조 (스택 자료구조)\n",
    "- `PriorityQueue` : 데이터마다 우선순위를 넣어서, 우선순위가 옾은 순으로 데이터를 출력"
   ]
  },
  {
   "cell_type": "markdown",
   "metadata": {},
   "source": [
    "### 1. Queue (FIFO)"
   ]
  },
  {
   "cell_type": "code",
   "execution_count": 7,
   "metadata": {},
   "outputs": [],
   "source": [
    "import queue\n",
    "\n",
    "data_queue = queue.Queue()"
   ]
  },
  {
   "cell_type": "code",
   "execution_count": 8,
   "metadata": {},
   "outputs": [],
   "source": [
    "data_queue.put(\"hello world\")\n",
    "data_queue.put(1)"
   ]
  },
  {
   "cell_type": "code",
   "execution_count": 9,
   "metadata": {},
   "outputs": [
    {
     "output_type": "execute_result",
     "data": {
      "text/plain": "2"
     },
     "metadata": {},
     "execution_count": 9
    }
   ],
   "source": [
    "data_queue.qsize()"
   ]
  },
  {
   "cell_type": "code",
   "execution_count": 10,
   "metadata": {},
   "outputs": [
    {
     "output_type": "execute_result",
     "data": {
      "text/plain": "'hello world'"
     },
     "metadata": {},
     "execution_count": 10
    }
   ],
   "source": [
    "data_queue.get()"
   ]
  },
  {
   "cell_type": "code",
   "execution_count": 11,
   "metadata": {},
   "outputs": [
    {
     "output_type": "execute_result",
     "data": {
      "text/plain": "1"
     },
     "metadata": {},
     "execution_count": 11
    }
   ],
   "source": [
    "data_queue.get()"
   ]
  },
  {
   "cell_type": "markdown",
   "metadata": {},
   "source": [
    "### 2. LifoQueue (LIFO)"
   ]
  },
  {
   "cell_type": "code",
   "execution_count": 13,
   "metadata": {},
   "outputs": [],
   "source": [
    "import queue\n",
    "\n",
    "data_queue = queue.LifoQueue()"
   ]
  },
  {
   "cell_type": "code",
   "execution_count": 18,
   "metadata": {},
   "outputs": [],
   "source": [
    "data_queue.put(\"hello world\")\n",
    "data_queue.put(1)"
   ]
  },
  {
   "cell_type": "code",
   "execution_count": 15,
   "metadata": {},
   "outputs": [
    {
     "output_type": "execute_result",
     "data": {
      "text/plain": "1"
     },
     "metadata": {},
     "execution_count": 15
    }
   ],
   "source": [
    "data_queue.get()"
   ]
  },
  {
   "cell_type": "code",
   "execution_count": 16,
   "metadata": {},
   "outputs": [
    {
     "output_type": "execute_result",
     "data": {
      "text/plain": "'hello world'"
     },
     "metadata": {},
     "execution_count": 16
    }
   ],
   "source": [
    "data_queue.get()"
   ]
  },
  {
   "cell_type": "markdown",
   "metadata": {},
   "source": [
    "### 3. PriorityQueue (우선순위 큐)"
   ]
  },
  {
   "cell_type": "code",
   "execution_count": 19,
   "metadata": {},
   "outputs": [],
   "source": [
    "import queue\n",
    "\n",
    "data_queue = queue.PriorityQueue()"
   ]
  },
  {
   "cell_type": "code",
   "execution_count": 20,
   "metadata": {},
   "outputs": [],
   "source": [
    "data_queue.put((10, \"hello world\")) # (우선순위, data)\n",
    "data_queue.put((5, 1))\n",
    "data_queue.put((15, 999))"
   ]
  },
  {
   "cell_type": "code",
   "execution_count": 21,
   "metadata": {},
   "outputs": [
    {
     "output_type": "execute_result",
     "data": {
      "text/plain": "3"
     },
     "metadata": {},
     "execution_count": 21
    }
   ],
   "source": [
    "data_queue.qsize()"
   ]
  },
  {
   "cell_type": "code",
   "execution_count": 22,
   "metadata": {},
   "outputs": [
    {
     "output_type": "execute_result",
     "data": {
      "text/plain": "(5, 1)"
     },
     "metadata": {},
     "execution_count": 22
    }
   ],
   "source": [
    "data_queue.get()"
   ]
  },
  {
   "cell_type": "code",
   "execution_count": 23,
   "metadata": {},
   "outputs": [
    {
     "output_type": "execute_result",
     "data": {
      "text/plain": "(10, 'hello world')"
     },
     "metadata": {},
     "execution_count": 23
    }
   ],
   "source": [
    "data_queue.get()"
   ]
  },
  {
   "cell_type": "code",
   "execution_count": null,
   "metadata": {},
   "outputs": [],
   "source": []
  }
 ],
 "metadata": {
  "kernelspec": {
   "display_name": "Python 3.9.1 64-bit ('py39': conda)",
   "language": "python",
   "name": "python_defaultSpec_1611037816599"
  }
 },
 "nbformat": 4,
 "nbformat_minor": 4
}