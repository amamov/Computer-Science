{
 "cells": [
  {
   "cell_type": "markdown",
   "metadata": {},
   "source": [
    "# 해쉬 테이블 (Hash Table)\n",
    "\n",
    "## 1. 해쉬 구조\n",
    "\n",
    "- Hash Table : 키(Key)에 데이터(Value)를 저장하는 데이터 구조\n",
    "    - Key를 통해 바로 데이터를 받아올 수 있으므로, 속도가 빠르다.\n",
    "    - 파이썬의 딕셔너리 타입이 해쉬 테이블의 예이다.\n",
    "    - 보통 배열로 미리 Hash Table 사이즈만큼 생성 후에 사용한다. (공간과 탐색 시간을 맞바꾸는 기법)\n",
    "        - 파이썬에서는 해쉬를 별도로 구현할 필요가 없다. (딕셔너리 타입을 사용하면 된다.)\n",
    "\n",
    "<br>\n",
    "\n",
    "## 2. 알아둘 용어\n",
    "\n",
    "- 해쉬(Hash): 임의 값을 고정 길이로 변환하는 것\n",
    "- 해쉬 테이블(Hash Table): 키 값의 연산에 의해 직접 접근이 가능한 데이터 구조\n",
    "- 해싱 함수(Hashing Function): Key에 대해 산술 연산을 이용해 데이터 위치를 찾을 수 있는 함수\n",
    "- 해쉬 값(Hash Value) 또는 해쉬 주소(Hash Address): Key를 해싱 함수로 연산해서, 해쉬 값을 알아내고, 이를 기반으로 해쉬 테이블에서 해당 Key에 대한 데이터 위치를 일관성 있게 찾을 수 있다.\n",
    "- 슬롯(Slot): 한 개의 데이터를 저장할 수 있는 공간\n",
    "- 저장할 데이터에 대해 Key를 추출할 수 있는 별도 함수도 존재할 수 있다.\n",
    "\n",
    "\n"
   ]
  },
  {
   "cell_type": "markdown",
   "metadata": {},
   "source": [
    "### 1. hash table 만들기"
   ]
  },
  {
   "cell_type": "code",
   "execution_count": 3,
   "metadata": {},
   "outputs": [
    {
     "output_type": "execute_result",
     "data": {
      "text/plain": "[0, 0, 0, 0, 0, 0, 0, 0, 0, 0]"
     },
     "metadata": {},
     "execution_count": 3
    }
   ],
   "source": [
    "hash_table = [0 for i in range(10)]\n",
    "hash_table"
   ]
  },
  {
   "cell_type": "markdown",
   "metadata": {},
   "source": [
    "### 2. hash function 만들기\n",
    "\n",
    "- 다양한 해쉬 함수 고안 기법이 있으며, 가장 간단한 방식인 Division 법 (나누기를 통한 나머지 값을 사용하는 기법)을 사용해 보자."
   ]
  },
  {
   "cell_type": "code",
   "execution_count": 21,
   "metadata": {},
   "outputs": [],
   "source": [
    "def hash_func(key):\n",
    "    return key % 7"
   ]
  },
  {
   "cell_type": "markdown",
   "metadata": {},
   "source": [
    "### 3. hash table에 저장하기"
   ]
  },
  {
   "cell_type": "code",
   "execution_count": 23,
   "metadata": {
    "tags": []
   },
   "outputs": [
    {
     "output_type": "stream",
     "name": "stdout",
     "text": "121 115 115\n121 2\n104 6\n106 1\n"
    }
   ],
   "source": [
    "data1 = 'yss'\n",
    "data2 = 'hyr'\n",
    "data3 = 'joy'\n",
    "\n",
    "## 아스키 값\n",
    "print(ord(data1[0]), ord(data1[1]), ord(data1[2]))\n",
    "print(ord(data1[0]), hash_func(ord(data1[0])))\n",
    "print(ord(data2[0]), hash_func(ord(data2[0])))\n",
    "print(ord(data3[0]), hash_func(ord(data3[0])))"
   ]
  },
  {
   "cell_type": "code",
   "execution_count": 25,
   "metadata": {},
   "outputs": [],
   "source": [
    "def storage_data(data, value):\n",
    "    key = ord(data[0])\n",
    "    hash_address = hash_func(key)\n",
    "    hash_table[hash_address] = value"
   ]
  },
  {
   "cell_type": "code",
   "execution_count": 26,
   "metadata": {},
   "outputs": [],
   "source": [
    "storage_data('yys', '01033332222')\n",
    "storage_data('hyr', '01011112222')\n",
    "storage_data('joy', '01033335555')"
   ]
  },
  {
   "cell_type": "markdown",
   "metadata": {},
   "source": [
    "### 4. hash table에서 데이터를 읽기\n"
   ]
  },
  {
   "cell_type": "code",
   "execution_count": 27,
   "metadata": {},
   "outputs": [],
   "source": [
    "def get_data(data):\n",
    "    key = ord(data[0])\n",
    "    hash_address = hash_func(key)\n",
    "    return hash_table[hash_address]"
   ]
  },
  {
   "cell_type": "code",
   "execution_count": 28,
   "metadata": {},
   "outputs": [
    {
     "output_type": "execute_result",
     "data": {
      "text/plain": "'01033332222'"
     },
     "metadata": {},
     "execution_count": 28
    }
   ],
   "source": [
    "get_data('yys')"
   ]
  },
  {
   "cell_type": "code",
   "execution_count": 31,
   "metadata": {},
   "outputs": [
    {
     "output_type": "execute_result",
     "data": {
      "text/plain": "'01011112222'"
     },
     "metadata": {},
     "execution_count": 31
    }
   ],
   "source": [
    "get_data('hyr')"
   ]
  },
  {
   "cell_type": "code",
   "execution_count": 33,
   "metadata": {},
   "outputs": [
    {
     "output_type": "execute_result",
     "data": {
      "text/plain": "'01033335555'"
     },
     "metadata": {},
     "execution_count": 33
    }
   ],
   "source": [
    "get_data('joy')"
   ]
  },
  {
   "cell_type": "code",
   "execution_count": null,
   "metadata": {},
   "outputs": [],
   "source": []
  }
 ],
 "metadata": {
  "language_info": {
   "codemirror_mode": {
    "name": "ipython",
    "version": 3
   },
   "file_extension": ".py",
   "mimetype": "text/x-python",
   "name": "python",
   "nbconvert_exporter": "python",
   "pygments_lexer": "ipython3",
   "version": 3
  },
  "orig_nbformat": 2,
  "kernelspec": {
   "name": "python_defaultSpec_1611299874194",
   "display_name": "Python 3.9.1 64-bit ('py39': conda)"
  }
 },
 "nbformat": 4,
 "nbformat_minor": 2
}